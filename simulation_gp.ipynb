{
 "cells": [
  {
   "cell_type": "code",
   "execution_count": 1,
   "id": "a1a05bc6-ccdb-47a8-8ebf-94fe2ebf95fe",
   "metadata": {},
   "outputs": [],
   "source": [
    "import pandas as pd\n",
    "import numpy as np"
   ]
  },
  {
   "cell_type": "code",
   "execution_count": 2,
   "id": "85111833-3486-46f0-bab9-1e3866549d3d",
   "metadata": {},
   "outputs": [],
   "source": [
    "from math import asin,acos,atan \n",
    "from sklearn.model_selection import train_test_split\n",
    "from sklearn.linear_model import RidgeCV\n",
    "from sklearn.tree import DecisionTreeRegressor\n",
    "from sklearn.ensemble import RandomForestRegressor\n",
    "from sklearn.preprocessing import StandardScaler\n",
    "from sklearn.pipeline import make_pipeline\n",
    "from sklearn.metrics import mean_absolute_error, mean_squared_error"
   ]
  },
  {
   "cell_type": "code",
   "execution_count": 3,
   "id": "1c5a82b7-1f14-4c27-9e56-9f5f91be773f",
   "metadata": {},
   "outputs": [],
   "source": [
    "from skopt import gp_minimize"
   ]
  },
  {
   "cell_type": "code",
   "execution_count": 4,
   "id": "96199f74",
   "metadata": {},
   "outputs": [],
   "source": [
    "from gplearn.genetic import SymbolicRegressor\n",
    "from gplearn.functions import make_function\n",
    "from collections import OrderedDict\n",
    "from sklearn.utils.random import check_random_state"
   ]
  },
  {
   "cell_type": "code",
   "execution_count": 5,
   "id": "7bb8a9ad-418f-4645-9e41-f89b870ea9c2",
   "metadata": {},
   "outputs": [],
   "source": [
    "import graphviz"
   ]
  },
  {
   "cell_type": "code",
   "execution_count": 26,
   "id": "1105f28c-bf82-46c8-9695-c044cc7b560b",
   "metadata": {},
   "outputs": [],
   "source": [
    "def _arcsin(x):\n",
    "  return np.arcsin(x)\n",
    "\n",
    "arcsin= make_function(function=_arcsin,\n",
    "                        name='arcsin',\n",
    "                        arity=1)"
   ]
  },
  {
   "cell_type": "code",
   "execution_count": 27,
   "id": "4a14f4f5-57b3-44a6-be04-50e2c23baa02",
   "metadata": {},
   "outputs": [],
   "source": [
    "def _arccos(x):\n",
    "  return np.arccos(x)\n",
    "\n",
    "arccos= make_function(function=_arccos,\n",
    "                        name='arccos',\n",
    "                        arity=1)"
   ]
  },
  {
   "cell_type": "code",
   "execution_count": 112,
   "id": "606dd070-0420-42c8-bde9-1ac79f8ae8c7",
   "metadata": {},
   "outputs": [],
   "source": [
    "# def _exp(x):\n",
    "#     with np.errstate(over='ignore'):\n",
    "#        return np.exp(x)\n",
    "\n",
    "# exp= make_function(function=_exp,\n",
    "#                         name='exp',\n",
    "#                         arity=1)"
   ]
  },
  {
   "cell_type": "code",
   "execution_count": 12,
   "id": "9cc5eec0-cb40-43bf-a009-af82e8b53594",
   "metadata": {},
   "outputs": [],
   "source": [
    "def _protected_exponent(x):\n",
    "    with np.errstate(over='ignore'):\n",
    "        return np.where(np.abs(x) < 100, np.exp(x), 0.)\n",
    "\n",
    "exp= make_function(function=_protected_exponent,\n",
    "                    name='exp',\n",
    "                     arity=1)"
   ]
  },
  {
   "cell_type": "code",
   "execution_count": 13,
   "id": "64ef29a5-4e7a-445f-909a-a0eb71eefb53",
   "metadata": {},
   "outputs": [
    {
     "data": {
      "text/plain": [
       "array(20.08553692)"
      ]
     },
     "execution_count": 13,
     "metadata": {},
     "output_type": "execute_result"
    }
   ],
   "source": [
    "exp(3)"
   ]
  },
  {
   "cell_type": "code",
   "execution_count": 6,
   "id": "1bf3d171-f498-4f82-868d-ca4295834a37",
   "metadata": {},
   "outputs": [
    {
     "ename": "NameError",
     "evalue": "name 'exp' is not defined",
     "output_type": "error",
     "traceback": [
      "\u001b[0;31m---------------------------------------------------------------------------\u001b[0m",
      "\u001b[0;31mNameError\u001b[0m                                 Traceback (most recent call last)",
      "\u001b[0;32m/var/folders/gy/vzn18n117zd63frlmv3700f80000gn/T/ipykernel_97979/4183776830.py\u001b[0m in \u001b[0;36m<module>\u001b[0;34m\u001b[0m\n\u001b[1;32m      4\u001b[0m                 'max', 'min']\n\u001b[1;32m      5\u001b[0m \u001b[0;34m\u001b[0m\u001b[0m\n\u001b[0;32m----> 6\u001b[0;31m function_set_s = [exp,'add', 'sub', 'mul', 'div',\n\u001b[0m\u001b[1;32m      7\u001b[0m                   'abs','inv','neg']\n",
      "\u001b[0;31mNameError\u001b[0m: name 'exp' is not defined"
     ]
    }
   ],
   "source": [
    "function_set = ['add', 'sub', 'mul', 'div',\n",
    "                'sqrt', 'log', 'abs', 'neg', \n",
    "                'inv','sin','cos','tan',\n",
    "                'max', 'min']\n",
    "\n",
    "function_set_s = [exp,'add', 'sub', 'mul', 'div',\n",
    "                  'abs','inv','neg']"
   ]
  },
  {
   "cell_type": "code",
   "execution_count": 15,
   "id": "fc3e0601-9479-494e-9aa9-5086c1e8b241",
   "metadata": {},
   "outputs": [],
   "source": [
    "df = pd.read_csv('/Users/jiayiluo/Dropbox/symbolic/simulations/symbolic_sim_1.csv', sep=',')"
   ]
  },
  {
   "cell_type": "code",
   "execution_count": 16,
   "id": "7012ac48-efb3-448e-a6c4-b0ee307a7f17",
   "metadata": {},
   "outputs": [
    {
     "data": {
      "text/html": [
       "<div>\n",
       "<style scoped>\n",
       "    .dataframe tbody tr th:only-of-type {\n",
       "        vertical-align: middle;\n",
       "    }\n",
       "\n",
       "    .dataframe tbody tr th {\n",
       "        vertical-align: top;\n",
       "    }\n",
       "\n",
       "    .dataframe thead th {\n",
       "        text-align: right;\n",
       "    }\n",
       "</style>\n",
       "<table border=\"1\" class=\"dataframe\">\n",
       "  <thead>\n",
       "    <tr style=\"text-align: right;\">\n",
       "      <th></th>\n",
       "      <th>x1</th>\n",
       "      <th>y</th>\n",
       "    </tr>\n",
       "  </thead>\n",
       "  <tbody>\n",
       "    <tr>\n",
       "      <th>0</th>\n",
       "      <td>1.017180</td>\n",
       "      <td>-1.551986</td>\n",
       "    </tr>\n",
       "    <tr>\n",
       "      <th>1</th>\n",
       "      <td>1.048455</td>\n",
       "      <td>-1.581402</td>\n",
       "    </tr>\n",
       "    <tr>\n",
       "      <th>2</th>\n",
       "      <td>0.943249</td>\n",
       "      <td>-1.428004</td>\n",
       "    </tr>\n",
       "    <tr>\n",
       "      <th>3</th>\n",
       "      <td>1.066828</td>\n",
       "      <td>-1.592297</td>\n",
       "    </tr>\n",
       "    <tr>\n",
       "      <th>4</th>\n",
       "      <td>1.126362</td>\n",
       "      <td>-1.595135</td>\n",
       "    </tr>\n",
       "  </tbody>\n",
       "</table>\n",
       "</div>"
      ],
      "text/plain": [
       "         x1         y\n",
       "0  1.017180 -1.551986\n",
       "1  1.048455 -1.581402\n",
       "2  0.943249 -1.428004\n",
       "3  1.066828 -1.592297\n",
       "4  1.126362 -1.595135"
      ]
     },
     "execution_count": 16,
     "metadata": {},
     "output_type": "execute_result"
    }
   ],
   "source": [
    "df.head()"
   ]
  },
  {
   "cell_type": "code",
   "execution_count": 17,
   "id": "d0e99d60-dca7-4150-9c85-e7ef7d422ae4",
   "metadata": {},
   "outputs": [],
   "source": [
    "feature_names = ['x1']\n",
    "target_name = 'y'\n",
    "\n",
    "X = df[feature_names]\n",
    "y = df[target_name]\n"
   ]
  },
  {
   "cell_type": "code",
   "execution_count": 18,
   "id": "11f14693-de7d-43ad-b426-753c23f7eb78",
   "metadata": {},
   "outputs": [],
   "source": [
    "X_train, X_test, y_train, y_test = train_test_split(X, y, shuffle=True, random_state=42)"
   ]
  },
  {
   "cell_type": "code",
   "execution_count": 28,
   "id": "9b4d4e6a-ea7b-47ce-9954-babbc08c3fef",
   "metadata": {},
   "outputs": [],
   "source": [
    "models = {'sr': SymbolicRegressor(population_size=200, init_method='half and half',\n",
    "                           generations=60, stopping_criteria=0.001,\n",
    "                           max_samples=0.9, verbose=1,\n",
    "                           p_crossover=0.7,p_subtree_mutation=0.1,\n",
    "                           p_hoist_mutation=0,p_point_mutation=0,\n",
    "                           parsimony_coefficient=0.001, random_state=0,\n",
    "                           function_set=function_set_s),\n",
    "         'lm': make_pipeline(StandardScaler(), RidgeCV()),\n",
    "         'rf': RandomForestRegressor()}"
   ]
  },
  {
   "cell_type": "code",
   "execution_count": 29,
   "id": "8415108f-c7a2-41e5-b8bc-7ed089b13da2",
   "metadata": {},
   "outputs": [
    {
     "name": "stdout",
     "output_type": "stream",
     "text": [
      "Training model sr\n",
      "    |   Population Average    |             Best Individual              |\n",
      "---- ------------------------- ------------------------------------------ ----------\n",
      " Gen   Length          Fitness   Length          Fitness      OOB Fitness  Time Left\n",
      "   0    15.71      2.65644e+21        7         0.115872         0.124922      6.18s\n",
      "   1     9.82           1.4463       23        0.0770526        0.0751971      4.15s\n",
      "   2     9.81          19.3974        8        0.0731081        0.0710926      4.28s\n",
      "   3     8.84          5.56845        8        0.0725403        0.0762035      3.83s\n",
      "   4     6.32         0.885501        8        0.0724705        0.0768316      3.26s\n",
      "   5     8.03          1.02175        8        0.0724344        0.0771564      3.58s\n",
      "   6     8.56          1.48242        8        0.0724386        0.0771184      3.79s\n",
      "   7     7.56          1.11214        3        0.0711697        0.0643195      3.52s\n",
      "   8     7.03          1.56211        3        0.0700827        0.0741026      3.39s\n",
      "   9     5.39          1.29503        3        0.0700806        0.0741216      3.07s\n",
      "  10     3.21         0.739862        3        0.0696392        0.0780944      2.85s\n",
      "  11     3.25         0.747494        3        0.0696351        0.0781316      2.73s\n",
      "  12     3.36          1.20492        3        0.0696351        0.0781309      2.67s\n",
      "  13     3.10         0.744431        3        0.0697555        0.0770478      2.59s\n",
      "  14     3.11       1.0042e+08        3        0.0695473        0.0789216      2.60s\n",
      "  15     3.27          1.01302        3        0.0695559         0.078844      2.51s\n",
      "  16     3.27         0.615485        3        0.0697839        0.0767925      2.45s\n",
      "  17     3.45         0.832228        3        0.0696683        0.0778321      2.41s\n",
      "  18     3.64         0.845894        3        0.0697157        0.0774057      2.44s\n",
      "  19     3.23         0.612201        3        0.0697466        0.0771274      2.28s\n",
      "  20     3.34         0.870997        3        0.0696479        0.0780165      2.22s\n",
      "  21     3.29         0.644836        3        0.0694654        0.0796587      2.16s\n",
      "  22     3.37          1.09211        3        0.0696493        0.0780033      2.15s\n",
      "  23     3.37         0.679055        3        0.0697215         0.077354      2.10s\n",
      "  24     3.29         0.841945        3        0.0694924        0.0794156      2.03s\n",
      "  25     3.13         0.547071        3        0.0695498        0.0788991      1.92s\n",
      "  26     3.30          1.05391        3        0.0697473         0.077121      1.92s\n",
      "  27     3.31          38.9053        3        0.0695633        0.0787772      1.85s\n",
      "  28     3.08         0.551438        3        0.0698122        0.0765373      1.73s\n",
      "  29     3.18         0.939539        3          0.06966        0.0779072      1.68s\n",
      "  30     3.35          1.76537        3        0.0697133        0.0774279      1.72s\n",
      "  31     3.13         0.647417        3        0.0696331        0.0781494      1.60s\n",
      "  32     3.20      1.45429e+10        3        0.0697144        0.0774172      1.54s\n",
      "  33     3.38         0.657753        3         0.069642        0.0780688      1.48s\n",
      "  34     3.33         0.718485        3        0.0696824        0.0777058      1.48s\n",
      "  35     3.10         0.858945        3        0.0698896        0.0758406      1.39s\n",
      "  36     3.17         0.932645        3        0.0696509        0.0779889      1.33s\n",
      "  37     3.30          1.01075        3        0.0696624        0.0778852      1.34s\n",
      "  38     3.22         0.815672        3        0.0697458        0.0771349      1.34s\n",
      "  39     3.34         0.809208        3        0.0693209        0.0809591      1.30s\n",
      "  40     3.04          2.29776        3        0.0697259        0.0773144      1.19s\n",
      "  41     3.40          2.11247        3        0.0697554         0.077049      1.11s\n",
      "  42     3.44         0.926776        3        0.0698009        0.0766393      1.14s\n",
      "  43     3.36         0.797097        3        0.0695641        0.0787705      1.01s\n",
      "  44     3.49         0.873393        3        0.0697115        0.0774441      0.90s\n",
      "  45     3.03         0.711553        3        0.0696834         0.077697      0.80s\n",
      "  46     3.12         0.686383        3        0.0695014        0.0793344      0.77s\n",
      "  47     3.42         0.720115        3         0.069648        0.0780151      0.74s\n",
      "  48     3.31         0.676467        3         0.069707        0.0774842      0.68s\n",
      "  49     3.23          1.80431        3        0.0699648        0.0751639      0.63s\n",
      "  50     3.17         0.733915        3        0.0695659        0.0787543      0.55s\n",
      "  51     3.06      3.81454e+06        3         0.069707         0.077484      0.74s\n",
      "  52     3.44          1.09229        3        0.0695634        0.0787768      0.41s\n",
      "  53     3.23         0.596954        3        0.0695992         0.078454      0.35s\n",
      "  54     3.21         0.769905        3        0.0695149        0.0792134      0.29s\n",
      "  55     3.19         0.794085        3        0.0694753        0.0795696      0.23s\n",
      "  56     3.25         0.749603        3        0.0697436        0.0771545      0.17s\n",
      "  57     3.04         0.998461        3        0.0698379        0.0763057      0.12s\n",
      "  58     3.17         0.639675        3        0.0696987        0.0775586      0.06s\n",
      "  59     2.98         0.673663        3        0.0697621        0.0769881      0.00s\n",
      "Training model lm\n",
      "Training model rf\n"
     ]
    }
   ],
   "source": [
    "for model_name, model_instance in models.items():\n",
    "    print('Training model {}'.format(model_name))\n",
    "    model_instance.fit(X_train, y_train)"
   ]
  },
  {
   "cell_type": "code",
   "execution_count": null,
   "id": "9e1a03b1-8f3f-4157-8654-d31185a30104",
   "metadata": {},
   "outputs": [],
   "source": [
    "for model_name, model_instance in models.items():\n",
    "    y_test_pred = model_instance.predict(X_test)\n",
    "    mae = mean_absolute_error(y_test, y_test_pred)\n",
    "    mse = mean_squared_error(y_test, y_test_pred)\n",
    "    \n",
    "    print('Model {}: \\n mae: {} \\n mse: {} \\n'.format(model_name, mae, mse))"
   ]
  },
  {
   "cell_type": "code",
   "execution_count": null,
   "id": "7f8d695e-a68d-4bb2-be9f-8f91b6c643c6",
   "metadata": {},
   "outputs": [],
   "source": [
    "print(models['sr']._program)"
   ]
  },
  {
   "cell_type": "code",
   "execution_count": null,
   "id": "68686fbf-6629-41e5-8807-12eccf4f7f4e",
   "metadata": {},
   "outputs": [],
   "source": [
    "dot_data = models['sr']._program.export_graphviz()\n",
    "graph = graphviz.Source(dot_data)\n",
    "graph.render('images/ex1_child', format='png', cleanup=True)\n",
    "graph"
   ]
  },
  {
   "cell_type": "code",
   "execution_count": null,
   "id": "ccd5ae05-5d24-45f0-bc16-fb5eb8858ee6",
   "metadata": {},
   "outputs": [],
   "source": [
    "graph.render('/Users/jiayiluo/Dropbox/symbolic/simulations/simu_k.gv', view=True)"
   ]
  },
  {
   "cell_type": "code",
   "execution_count": 7,
   "id": "9a80cc07-f1bb-4d7e-9660-948a36313851",
   "metadata": {},
   "outputs": [],
   "source": [
    "# Bayesian opt###\n",
    "from sklearn.model_selection import cross_val_score\n",
    "\n",
    "from skopt.space import Real, Integer,Categorical\n",
    "from skopt.utils import use_named_args\n",
    "from skopt import gp_minimize"
   ]
  },
  {
   "cell_type": "code",
   "execution_count": null,
   "id": "6e5ec16b-c222-4b51-9f9f-46363da0aeeb",
   "metadata": {},
   "outputs": [],
   "source": [
    "est_gp = SymbolicRegressor(population_size=200, init_method='grow',\n",
    "                           generations=60, stopping_criteria=0.001,\n",
    "                           max_samples=0.9, verbose=1,\n",
    "                           p_crossover=0.7,p_subtree_mutation=0.1,\n",
    "                           p_hoist_mutation=0.1,p_point_mutation=0.1,\n",
    "                           parsimony_coefficient=\"auto\", random_state=0,\n",
    "                           function_set=function_set)\n",
    "est_gp.fit(X_train, y_train)"
   ]
  },
  {
   "cell_type": "code",
   "execution_count": null,
   "id": "ac754f6e-3c51-4d32-bef9-5963a46836a5",
   "metadata": {},
   "outputs": [],
   "source": [
    "est_gp=SymbolicRegressor( generations=60, stopping_criteria=0.01,\n",
    "                           max_samples=0.9, verbose=1,\n",
    "                           random_state=0,\n",
    "                           function_set=function_set_s,\n",
    "                           parsimony_coefficient=0.001)\n",
    "\n",
    "\n",
    "# The list of hyper-parameters we want to optimize. For each one we define the\n",
    "# bounds, the corresponding scikit-learn parameter name, as well as how to\n",
    "# sample values from that dimension (`'log-uniform'` for the learning rate)\n",
    "space  = [Integer(100,2000,name='population_size'),\n",
    "          Real(0, 0.7, name='p_crossover'),\n",
    "          Real(0, 0.1, name='p_subtree_mutation'),\n",
    "          Real(0, 0.1, name='p_hoist_mutation'),\n",
    "          Real(0, 0.1, name='p_point_mutation'),\n",
    "          Categorical(['grow', 'full', 'half and half'], name='init_method')]\n",
    "\n",
    "# this decorator allows your objective function to receive a the parameters as\n",
    "# keyword arguments. This is particularly convenient when you want to set\n",
    "# scikit-learn estimator parameters\n",
    "@use_named_args(space)\n",
    "def objective(**params):\n",
    "    est_gp.set_params(**params)\n",
    "\n",
    "    return -np.mean(cross_val_score(est_gp, X_train, y_train, cv=5, n_jobs=-1,\n",
    "                                    scoring=\"neg_mean_absolute_error\"))"
   ]
  },
  {
   "cell_type": "code",
   "execution_count": null,
   "id": "2b7d66d2-7e5d-4e78-9cb3-dde58dd2bed5",
   "metadata": {},
   "outputs": [],
   "source": [
    "res_gp = gp_minimize(objective, space, n_calls=50, random_state=0)"
   ]
  },
  {
   "cell_type": "code",
   "execution_count": 24,
   "id": "19f43b15-fd2e-4124-9383-ad965cf55df1",
   "metadata": {},
   "outputs": [
    {
     "data": {
      "text/plain": [
       "1.696376372706254e-15"
      ]
     },
     "execution_count": 24,
     "metadata": {},
     "output_type": "execute_result"
    }
   ],
   "source": [
    "res_gp.fun"
   ]
  },
  {
   "cell_type": "code",
   "execution_count": 25,
   "id": "c8a1446b-2c3f-496e-b564-c2f6cbb2f9cb",
   "metadata": {},
   "outputs": [
    {
     "data": {
      "text/plain": [
       "'Best score=0.0000'"
      ]
     },
     "execution_count": 25,
     "metadata": {},
     "output_type": "execute_result"
    }
   ],
   "source": [
    "\"Best score=%.4f\" % res_gp.fun"
   ]
  },
  {
   "cell_type": "code",
   "execution_count": 26,
   "id": "9de15f08-5b25-4d14-8308-79f2134e0333",
   "metadata": {},
   "outputs": [
    {
     "data": {
      "text/plain": [
       "<AxesSubplot:title={'center':'Convergence plot'}, xlabel='Number of calls $n$', ylabel='$\\\\min f(x)$ after $n$ calls'>"
      ]
     },
     "execution_count": 26,
     "metadata": {},
     "output_type": "execute_result"
    },
    {
     "data": {
      "image/png": "[encoded data removed]",
      "text/plain": [
       "<Figure size 432x288 with 1 Axes>"
      ]
     },
     "metadata": {
      "needs_background": "light"
     },
     "output_type": "display_data"
    }
   ],
   "source": [
    "from skopt.plots import plot_convergence\n",
    "\n",
    "plot_convergence(res_gp)"
   ]
  },
  {
   "cell_type": "code",
   "execution_count": 28,
   "id": "fb400b0b-742e-4e26-9488-5a0939c1b67b",
   "metadata": {},
   "outputs": [
    {
     "name": "stdout",
     "output_type": "stream",
     "text": [
      "(1034, 0.08104221150304239, 0.3053600083433693, 0.03828747760225982, 0.09295921815885919, 'grow')\n"
     ]
    }
   ],
   "source": [
    "print((res_gp.x[0], res_gp.x[1],\n",
    "                            res_gp.x[2], res_gp.x[3],\n",
    "                            res_gp.x[4],res_gp.x[5]))"
   ]
  },
  {
   "cell_type": "code",
   "execution_count": 29,
   "id": "4f12c593-a46f-4cdc-9a5b-799a8a5047fc",
   "metadata": {},
   "outputs": [
    {
     "name": "stdout",
     "output_type": "stream",
     "text": [
      "    |   Population Average    |             Best Individual              |\n",
      "---- ------------------------- ------------------------------------------ ----------\n",
      " Gen   Length          Fitness   Length          Fitness      OOB Fitness  Time Left\n",
      "   0    12.48          25.6337        6        0.0459171         0.050674     39.06s\n",
      "   1     8.25          1.36378        8         0.026476         0.027498     31.91s\n",
      "   2     4.75         0.992938        8        0.0261517        0.0304171     26.72s\n",
      "   3     3.80         0.766606        8        0.0259947        0.0318296     25.48s\n",
      "   4     7.66         0.900399        9        0.0251744        0.0254578     27.69s\n",
      "   5     8.32         0.528183        9        0.0200211        0.0204818     27.98s\n",
      "   6     8.07          0.48517        9        0.0196931        0.0234335     27.98s\n",
      "   7     8.29         0.514767        9        0.0196198        0.0240933     28.94s\n",
      "   8     9.13         0.395261        9        0.0196571         0.023758     28.42s\n",
      "   9     8.71          0.46363        9         0.019506        0.0226463     27.59s\n",
      "  10     8.15         0.421423        8        0.0196553        0.0237742     27.05s\n",
      "  11     8.23         0.428706        8        0.0194695        0.0254463     26.84s\n",
      "  12     8.13         0.481683        8        0.0196467        0.0238511     26.47s\n",
      "  13     8.14          0.57084        8        0.0196557        0.0237703     25.30s\n",
      "  14     8.14         0.563313       13        0.0160883        0.0158111     24.39s\n",
      "  15     8.22          3.33174        8        0.0191147        0.0219776     25.57s\n",
      "  16     8.39         0.610556        8        0.0189934        0.0230695     23.77s\n",
      "  17     8.17          0.89334        8        0.0189304        0.0236363     23.07s\n",
      "  18     7.30         0.596151       14        0.0154925        0.0144252     22.25s\n",
      "  19     7.03          0.73388        8        0.0193905        0.0194957     21.56s\n",
      "  20     7.21         0.629084        7          0.01964        0.0238795     21.21s\n",
      "  21     7.15         0.729964        7        0.0195808        0.0244121     21.21s\n",
      "  22     7.17         0.468746        7        0.0194066          0.02598     21.47s\n",
      "  23     7.20         0.478123        7        0.0194701        0.0254086     19.93s\n",
      "  24     7.09         0.745683        7        0.0192688        0.0212701     19.25s\n",
      "  25     7.26          0.54857        7        0.0191471         0.022365     18.85s\n",
      "  26     7.18         0.394277        7         0.019034         0.023383     18.16s\n",
      "  27     7.21         0.433522        7        0.0190196        0.0235123     17.70s\n",
      "  28     7.05         0.478627        7        0.0190496         0.023243     17.39s\n",
      "  29     7.02         0.700567        7        0.0189872        0.0238045     16.48s\n",
      "  30     7.35         0.702779        7        0.0189806        0.0238639     16.07s\n",
      "  31     7.18         0.808657        7        0.0189825        0.0238465     15.91s\n",
      "  32     6.94         0.432122        7        0.0190263        0.0234521     14.74s\n",
      "  33     7.36         0.614789        7        0.0190205        0.0235042     14.31s\n",
      "  34     7.16         0.483031        7        0.0190356        0.0233688     13.61s\n",
      "  35     7.10          0.56801        7        0.0190326        0.0233953     13.09s\n",
      "  36     7.29         0.705123        7        0.0189451        0.0241829     12.76s\n",
      "  37     7.01         0.515768        7        0.0189722        0.0239396     12.84s\n",
      "  38     7.03         0.630187        7        0.0190118        0.0235825     11.47s\n",
      "  39     7.06         0.588645        7        0.0190149        0.0235548     10.95s\n",
      "  40     7.19         0.584672        7        0.0189769        0.0238972     10.47s\n",
      "  41     7.16         0.506646        7        0.0187974        0.0255126     10.00s\n",
      "  42     7.34         0.445274        7        0.0190502        0.0232371      9.37s\n",
      "  43     7.05         0.485376        7        0.0188747        0.0248166      8.80s\n",
      "  44     7.16         0.550019        7        0.0189623        0.0240287      8.41s\n",
      "  45     7.13         0.706094        7        0.0190149        0.0235552      7.72s\n",
      "  46     7.06         0.559836        7        0.0190052        0.0236423      7.28s\n",
      "  47     7.20         0.532776        7        0.0189797         0.023872      6.73s\n",
      "  48     7.14          1.17417        7        0.0189623        0.0240288      6.10s\n",
      "  49     7.16          0.67254        7        0.0189699        0.0239597      5.61s\n",
      "  50     7.04         0.564412        9        0.0182346        0.0197016      4.95s\n",
      "  51     7.05         0.451705        7        0.0189804        0.0238659      4.60s\n",
      "  52     7.09         0.501739        7        0.0190238        0.0234746      3.88s\n",
      "  53     7.16          1.17753        7        0.0190082        0.0236151      3.33s\n",
      "  54     7.22          0.52447        7        0.0190401        0.0233281      2.78s\n",
      "  55     7.11         0.819049        7        0.0189593        0.0240552      2.21s\n",
      "  56     7.06         0.405395        7        0.0189536        0.0241066      1.65s\n",
      "  57     7.25         0.685645        7        0.0190474        0.0232629      1.11s\n",
      "  58     7.14          2.81889        7         0.018965        0.0240041      0.59s\n",
      "  59     7.16         0.495456        7        0.0190544        0.0231995      0.00s\n"
     ]
    },
    {
     "data": {
      "text/plain": [
       "SymbolicRegressor(function_set=['add', 'sub', 'mul', 'div', 'abs', 'inv', 'neg',\n",
       "                                'log'],\n",
       "                  generations=60, init_method='grow', max_samples=0.9,\n",
       "                  p_crossover=0.081, p_hoist_mutation=0.038,\n",
       "                  p_point_mutation=0.093, p_subtree_mutation=0.305,\n",
       "                  population_size=1034, random_state=0, stopping_criteria=0.001,\n",
       "                  verbose=1)"
      ]
     },
     "execution_count": 29,
     "metadata": {},
     "output_type": "execute_result"
    }
   ],
   "source": [
    "est_gp_sep = SymbolicRegressor(population_size=1034,init_method='grow',\n",
    "                           generations=60, stopping_criteria=0.001,\n",
    "                           p_crossover=0.081, p_subtree_mutation=0.305,\n",
    "                           p_hoist_mutation=0.038, p_point_mutation=0.093,\n",
    "                           max_samples=0.9, verbose=1,\n",
    "                           parsimony_coefficient=0.001, random_state=0,\n",
    "                           function_set=function_set_s)\n",
    "est_gp_sep.fit(X_train, y_train)"
   ]
  },
  {
   "cell_type": "code",
   "execution_count": 30,
   "id": "77fc9880-0f14-4821-b460-c06d57b6b8ef",
   "metadata": {},
   "outputs": [
    {
     "name": "stdout",
     "output_type": "stream",
     "text": [
      "sub(mul(0.433, abs(log(X0))), X0)\n"
     ]
    }
   ],
   "source": [
    "print(est_gp_sep._program)"
   ]
  },
  {
   "cell_type": "code",
   "execution_count": 32,
   "id": "cf528ec7-a383-4588-a755-21f274abe01d",
   "metadata": {},
   "outputs": [
    {
     "data": {
      "image/svg+xml": [
       "<?xml version=\"1.0\" encoding=\"UTF-8\" standalone=\"no\"?>\n",
       "<!DOCTYPE svg PUBLIC \"-//W3C//DTD SVG 1.1//EN\"\n",
       " \"http://www.w3.org/Graphics/SVG/1.1/DTD/svg11.dtd\">\n",
       "<!-- Generated by graphviz version 2.50.0 (20211204.2007)\n",
       " -->\n",
       "<!-- Title: program Pages: 1 -->\n",
       "<svg width=\"176pt\" height=\"332pt\"\n",
       " viewBox=\"0.00 0.00 175.55 332.00\" xmlns=\"http://www.w3.org/2000/svg\" xmlns:xlink=\"http://www.w3.org/1999/xlink\">\n",
       "<g id=\"graph0\" class=\"graph\" transform=\"scale(1 1) rotate(0) translate(4 328)\">\n",
       "<title>program</title>\n",
       "<polygon fill=\"white\" stroke=\"transparent\" points=\"-4,4 -4,-328 171.55,-328 171.55,4 -4,4\"/>\n",
       "<!-- 0 -->\n",
       "<g id=\"node1\" class=\"node\">\n",
       "<title>0</title>\n",
       "<ellipse fill=\"#136ed4\" stroke=\"black\" cx=\"104.55\" cy=\"-306\" rx=\"27\" ry=\"18\"/>\n",
       "<text text-anchor=\"middle\" x=\"104.55\" y=\"-302.3\" font-family=\"Times,serif\" font-size=\"14.00\">sub</text>\n",
       "</g>\n",
       "<!-- 1 -->\n",
       "<g id=\"node2\" class=\"node\">\n",
       "<title>1</title>\n",
       "<ellipse fill=\"#136ed4\" stroke=\"black\" cx=\"68.55\" cy=\"-234\" rx=\"27\" ry=\"18\"/>\n",
       "<text text-anchor=\"middle\" x=\"68.55\" y=\"-230.3\" font-family=\"Times,serif\" font-size=\"14.00\">mul</text>\n",
       "</g>\n",
       "<!-- 0&#45;&gt;1 -->\n",
       "<g id=\"edge6\" class=\"edge\">\n",
       "<title>0&#45;&gt;1</title>\n",
       "<path fill=\"none\" stroke=\"black\" d=\"M96.2,-288.76C91.84,-280.28 86.4,-269.71 81.51,-260.2\"/>\n",
       "<polygon fill=\"black\" stroke=\"black\" points=\"84.54,-258.44 76.85,-251.15 78.31,-261.64 84.54,-258.44\"/>\n",
       "</g>\n",
       "<!-- 6 -->\n",
       "<g id=\"node7\" class=\"node\">\n",
       "<title>6</title>\n",
       "<ellipse fill=\"#60a6f6\" stroke=\"black\" cx=\"140.55\" cy=\"-234\" rx=\"27\" ry=\"18\"/>\n",
       "<text text-anchor=\"middle\" x=\"140.55\" y=\"-230.3\" font-family=\"Times,serif\" font-size=\"14.00\">X0</text>\n",
       "</g>\n",
       "<!-- 0&#45;&gt;6 -->\n",
       "<g id=\"edge5\" class=\"edge\">\n",
       "<title>0&#45;&gt;6</title>\n",
       "<path fill=\"none\" stroke=\"black\" d=\"M112.9,-288.76C117.26,-280.28 122.69,-269.71 127.59,-260.2\"/>\n",
       "<polygon fill=\"black\" stroke=\"black\" points=\"130.78,-261.64 132.24,-251.15 124.56,-258.44 130.78,-261.64\"/>\n",
       "</g>\n",
       "<!-- 2 -->\n",
       "<g id=\"node3\" class=\"node\">\n",
       "<title>2</title>\n",
       "<ellipse fill=\"#60a6f6\" stroke=\"black\" cx=\"30.55\" cy=\"-162\" rx=\"30.59\" ry=\"18\"/>\n",
       "<text text-anchor=\"middle\" x=\"30.55\" y=\"-158.3\" font-family=\"Times,serif\" font-size=\"14.00\">0.433</text>\n",
       "</g>\n",
       "<!-- 1&#45;&gt;2 -->\n",
       "<g id=\"edge4\" class=\"edge\">\n",
       "<title>1&#45;&gt;2</title>\n",
       "<path fill=\"none\" stroke=\"black\" d=\"M59.73,-216.76C55.2,-208.4 49.56,-198.02 44.45,-188.61\"/>\n",
       "<polygon fill=\"black\" stroke=\"black\" points=\"47.42,-186.75 39.58,-179.63 41.27,-190.09 47.42,-186.75\"/>\n",
       "</g>\n",
       "<!-- 3 -->\n",
       "<g id=\"node4\" class=\"node\">\n",
       "<title>3</title>\n",
       "<ellipse fill=\"#136ed4\" stroke=\"black\" cx=\"106.55\" cy=\"-162\" rx=\"27\" ry=\"18\"/>\n",
       "<text text-anchor=\"middle\" x=\"106.55\" y=\"-158.3\" font-family=\"Times,serif\" font-size=\"14.00\">abs</text>\n",
       "</g>\n",
       "<!-- 1&#45;&gt;3 -->\n",
       "<g id=\"edge3\" class=\"edge\">\n",
       "<title>1&#45;&gt;3</title>\n",
       "<path fill=\"none\" stroke=\"black\" d=\"M77.36,-216.76C81.97,-208.28 87.7,-197.71 92.87,-188.2\"/>\n",
       "<polygon fill=\"black\" stroke=\"black\" points=\"96.09,-189.61 97.78,-179.15 89.93,-186.27 96.09,-189.61\"/>\n",
       "</g>\n",
       "<!-- 4 -->\n",
       "<g id=\"node5\" class=\"node\">\n",
       "<title>4</title>\n",
       "<ellipse fill=\"#136ed4\" stroke=\"black\" cx=\"106.55\" cy=\"-90\" rx=\"27\" ry=\"18\"/>\n",
       "<text text-anchor=\"middle\" x=\"106.55\" y=\"-86.3\" font-family=\"Times,serif\" font-size=\"14.00\">log</text>\n",
       "</g>\n",
       "<!-- 3&#45;&gt;4 -->\n",
       "<g id=\"edge2\" class=\"edge\">\n",
       "<title>3&#45;&gt;4</title>\n",
       "<path fill=\"none\" stroke=\"black\" d=\"M106.55,-143.7C106.55,-135.98 106.55,-126.71 106.55,-118.11\"/>\n",
       "<polygon fill=\"black\" stroke=\"black\" points=\"110.05,-118.1 106.55,-108.1 103.05,-118.1 110.05,-118.1\"/>\n",
       "</g>\n",
       "<!-- 5 -->\n",
       "<g id=\"node6\" class=\"node\">\n",
       "<title>5</title>\n",
       "<ellipse fill=\"#60a6f6\" stroke=\"black\" cx=\"106.55\" cy=\"-18\" rx=\"27\" ry=\"18\"/>\n",
       "<text text-anchor=\"middle\" x=\"106.55\" y=\"-14.3\" font-family=\"Times,serif\" font-size=\"14.00\">X0</text>\n",
       "</g>\n",
       "<!-- 4&#45;&gt;5 -->\n",
       "<g id=\"edge1\" class=\"edge\">\n",
       "<title>4&#45;&gt;5</title>\n",
       "<path fill=\"none\" stroke=\"black\" d=\"M106.55,-71.7C106.55,-63.98 106.55,-54.71 106.55,-46.11\"/>\n",
       "<polygon fill=\"black\" stroke=\"black\" points=\"110.05,-46.1 106.55,-36.1 103.05,-46.1 110.05,-46.1\"/>\n",
       "</g>\n",
       "</g>\n",
       "</svg>\n"
      ],
      "text/plain": [
       "<graphviz.sources.Source at 0x7f8fb8f36310>"
      ]
     },
     "execution_count": 32,
     "metadata": {},
     "output_type": "execute_result"
    }
   ],
   "source": [
    "dot_data = est_gp_sep._program.export_graphviz()\n",
    "graph = graphviz.Source(dot_data)\n",
    "graph.render('/Users/jiayiluo/Dropbox/symbolic/simulations/simu_k_3.gv', view=False)\n",
    "graph\n",
    "\n"
   ]
  },
  {
   "cell_type": "code",
   "execution_count": null,
   "id": "840fed4a-d4c1-4725-90e7-89bb7e616c96",
   "metadata": {},
   "outputs": [],
   "source": [
    "# import numpy as np\n",
    "# score_gp = est_gp.score(X_test, y_test)"
   ]
  },
  {
   "cell_type": "code",
   "execution_count": null,
   "id": "b5dfd060-ffe1-42da-9f28-1be573a187f8",
   "metadata": {},
   "outputs": [],
   "source": [
    "# score_gp\n"
   ]
  },
  {
   "cell_type": "code",
   "execution_count": 179,
   "id": "97f78fa8-60f4-42c5-91d3-31f3b089128b",
   "metadata": {},
   "outputs": [],
   "source": [
    "df_2var= pd.read_csv('/Users/jiayiluo/Dropbox/symbolic/simulations/symbolic_sim_5_error1.csv', sep=',')"
   ]
  },
  {
   "cell_type": "code",
   "execution_count": 180,
   "id": "89761285-c709-441f-92ec-f202951e7d42",
   "metadata": {},
   "outputs": [
    {
     "data": {
      "text/html": [
       "<div>\n",
       "<style scoped>\n",
       "    .dataframe tbody tr th:only-of-type {\n",
       "        vertical-align: middle;\n",
       "    }\n",
       "\n",
       "    .dataframe tbody tr th {\n",
       "        vertical-align: top;\n",
       "    }\n",
       "\n",
       "    .dataframe thead th {\n",
       "        text-align: right;\n",
       "    }\n",
       "</style>\n",
       "<table border=\"1\" class=\"dataframe\">\n",
       "  <thead>\n",
       "    <tr style=\"text-align: right;\">\n",
       "      <th></th>\n",
       "      <th>k</th>\n",
       "      <th>tau</th>\n",
       "      <th>y</th>\n",
       "    </tr>\n",
       "  </thead>\n",
       "  <tbody>\n",
       "    <tr>\n",
       "      <th>0</th>\n",
       "      <td>0.937013</td>\n",
       "      <td>0.353554</td>\n",
       "      <td>2.632769</td>\n",
       "    </tr>\n",
       "    <tr>\n",
       "      <th>1</th>\n",
       "      <td>1.081578</td>\n",
       "      <td>0.244240</td>\n",
       "      <td>2.964404</td>\n",
       "    </tr>\n",
       "    <tr>\n",
       "      <th>2</th>\n",
       "      <td>0.846053</td>\n",
       "      <td>0.443998</td>\n",
       "      <td>2.482988</td>\n",
       "    </tr>\n",
       "    <tr>\n",
       "      <th>3</th>\n",
       "      <td>1.023784</td>\n",
       "      <td>0.166379</td>\n",
       "      <td>2.766814</td>\n",
       "    </tr>\n",
       "    <tr>\n",
       "      <th>4</th>\n",
       "      <td>0.940237</td>\n",
       "      <td>0.133167</td>\n",
       "      <td>2.533744</td>\n",
       "    </tr>\n",
       "  </tbody>\n",
       "</table>\n",
       "</div>"
      ],
      "text/plain": [
       "          k       tau         y\n",
       "0  0.937013  0.353554  2.632769\n",
       "1  1.081578  0.244240  2.964404\n",
       "2  0.846053  0.443998  2.482988\n",
       "3  1.023784  0.166379  2.766814\n",
       "4  0.940237  0.133167  2.533744"
      ]
     },
     "execution_count": 180,
     "metadata": {},
     "output_type": "execute_result"
    }
   ],
   "source": [
    "df_2var.head()"
   ]
  },
  {
   "cell_type": "code",
   "execution_count": 181,
   "id": "96bb3a74-a022-4a5e-b662-913dddd4f95c",
   "metadata": {},
   "outputs": [],
   "source": [
    "feature_names = ['k','tau']\n",
    "target_name = 'y'\n",
    "\n",
    "X = df_2var[feature_names]\n",
    "y = df_2var[target_name]\n"
   ]
  },
  {
   "cell_type": "code",
   "execution_count": 182,
   "id": "f91e62ac-4e6b-4800-bc4a-e1045e6e05dc",
   "metadata": {},
   "outputs": [],
   "source": [
    "X_train, X_test, y_train, y_test = train_test_split(X, y, shuffle=True, random_state=42)"
   ]
  },
  {
   "cell_type": "code",
   "execution_count": 183,
   "id": "1d44cbee-3130-4189-8c86-0dae07068bf8",
   "metadata": {},
   "outputs": [
    {
     "data": {
      "text/html": [
       "<div>\n",
       "<style scoped>\n",
       "    .dataframe tbody tr th:only-of-type {\n",
       "        vertical-align: middle;\n",
       "    }\n",
       "\n",
       "    .dataframe tbody tr th {\n",
       "        vertical-align: top;\n",
       "    }\n",
       "\n",
       "    .dataframe thead th {\n",
       "        text-align: right;\n",
       "    }\n",
       "</style>\n",
       "<table border=\"1\" class=\"dataframe\">\n",
       "  <thead>\n",
       "    <tr style=\"text-align: right;\">\n",
       "      <th></th>\n",
       "      <th>k</th>\n",
       "      <th>tau</th>\n",
       "    </tr>\n",
       "  </thead>\n",
       "  <tbody>\n",
       "    <tr>\n",
       "      <th>4884</th>\n",
       "      <td>0.954334</td>\n",
       "      <td>0.326708</td>\n",
       "    </tr>\n",
       "    <tr>\n",
       "      <th>3163</th>\n",
       "      <td>1.012696</td>\n",
       "      <td>0.442578</td>\n",
       "    </tr>\n",
       "    <tr>\n",
       "      <th>490</th>\n",
       "      <td>0.816412</td>\n",
       "      <td>0.243646</td>\n",
       "    </tr>\n",
       "    <tr>\n",
       "      <th>862</th>\n",
       "      <td>0.825353</td>\n",
       "      <td>0.151511</td>\n",
       "    </tr>\n",
       "    <tr>\n",
       "      <th>1740</th>\n",
       "      <td>0.888150</td>\n",
       "      <td>0.236486</td>\n",
       "    </tr>\n",
       "  </tbody>\n",
       "</table>\n",
       "</div>"
      ],
      "text/plain": [
       "             k       tau\n",
       "4884  0.954334  0.326708\n",
       "3163  1.012696  0.442578\n",
       "490   0.816412  0.243646\n",
       "862   0.825353  0.151511\n",
       "1740  0.888150  0.236486"
      ]
     },
     "execution_count": 183,
     "metadata": {},
     "output_type": "execute_result"
    }
   ],
   "source": [
    "X_train.head()\n"
   ]
  },
  {
   "cell_type": "code",
   "execution_count": 184,
   "id": "aae6afa5-0db5-40dd-bedf-dc27f5b16c5e",
   "metadata": {},
   "outputs": [
    {
     "data": {
      "text/plain": [
       "4884    2.659102\n",
       "3163    2.904309\n",
       "490     2.277154\n",
       "862     2.261064\n",
       "1740    2.441977\n",
       "Name: y, dtype: float64"
      ]
     },
     "execution_count": 184,
     "metadata": {},
     "output_type": "execute_result"
    }
   ],
   "source": [
    "y_train.head()"
   ]
  },
  {
   "cell_type": "code",
   "execution_count": 171,
   "id": "8c54e256-3ba5-4401-afed-40d05ab7b003",
   "metadata": {},
   "outputs": [],
   "source": [
    "est_gp=SymbolicRegressor(generations=60, stopping_criteria=0.001,\n",
    "                         max_samples=0.9, verbose=1,\n",
    "                         random_state=0, parsimony_coefficient=0.002,\n",
    "                         function_set=function_set_s)\n",
    "\n",
    "\n",
    "# The list of hyper-parameters we want to optimize. For each one we define the\n",
    "# bounds, the corresponding scikit-learn parameter name, as well as how to\n",
    "# sample values from that dimension (`'log-uniform'` for the learning rate)\n",
    "space  = [Integer(200,2000,name='population_size'),\n",
    "          Real(0, 0.15, name='p_crossover'),\n",
    "          Real(0, 0.45, name='p_subtree_mutation'),\n",
    "          Real(0, 0.25, name='p_hoist_mutation'),\n",
    "          Real(0, 0.15, name='p_point_mutation'),\n",
    "          Categorical(['grow', 'full', 'half and half'], name='init_method')]\n",
    "\n",
    "# this decorator allows your objective function to receive a the parameters as\n",
    "# keyword arguments. This is particularly convenient when you want to set\n",
    "# scikit-learn estimator parameters\n",
    "@use_named_args(space)\n",
    "def objective(**params):\n",
    "    est_gp.set_params(**params)\n",
    "\n",
    "    return -np.mean(cross_val_score(est_gp, X_train, y_train, cv=5, n_jobs=-1,\n",
    "                                    scoring=\"neg_mean_absolute_error\"))"
   ]
  },
  {
   "cell_type": "code",
   "execution_count": null,
   "id": "7bb623c0-8c45-43ab-9122-ffaf8a657752",
   "metadata": {},
   "outputs": [],
   "source": [
    "res_gp = gp_minimize(objective, space, n_calls=50, random_state=0)"
   ]
  },
  {
   "cell_type": "code",
   "execution_count": 173,
   "id": "96287bff-27a8-4a2f-a5c4-476db28584e7",
   "metadata": {},
   "outputs": [
    {
     "data": {
      "text/plain": [
       "0.0085799619436923"
      ]
     },
     "execution_count": 173,
     "metadata": {},
     "output_type": "execute_result"
    }
   ],
   "source": [
    "res_gp.fun"
   ]
  },
  {
   "cell_type": "code",
   "execution_count": 174,
   "id": "653aab43-452b-4068-b6c7-fbdbb8c20fe0",
   "metadata": {},
   "outputs": [
    {
     "data": {
      "text/plain": [
       "'Best score=0.0086'"
      ]
     },
     "execution_count": 174,
     "metadata": {},
     "output_type": "execute_result"
    }
   ],
   "source": [
    "\"Best score=%.4f\" % res_gp.fun"
   ]
  },
  {
   "cell_type": "code",
   "execution_count": 175,
   "id": "207d68b9-7ff1-403e-ade7-e6859a126bce",
   "metadata": {},
   "outputs": [
    {
     "name": "stdout",
     "output_type": "stream",
     "text": [
      "(1410, 0.11712316047757504, 0.20066856171971129, 0.07948502951556595, 0.03459252692459266, 'half and half')\n"
     ]
    }
   ],
   "source": [
    "print((res_gp.x[0], res_gp.x[1],\n",
    "                            res_gp.x[2], res_gp.x[3],\n",
    "                            res_gp.x[4],res_gp.x[5]))"
   ]
  },
  {
   "cell_type": "code",
   "execution_count": 185,
   "id": "00ac74f6-b215-4c2d-9f58-70f1340bd848",
   "metadata": {},
   "outputs": [
    {
     "name": "stdout",
     "output_type": "stream",
     "text": [
      "    |   Population Average    |             Best Individual              |\n",
      "---- ------------------------- ------------------------------------------ ----------\n",
      " Gen   Length          Fitness   Length          Fitness      OOB Fitness  Time Left\n",
      "   0    14.20      2.03519e+38       18        0.0697401        0.0704613      1.15m\n",
      "   1    10.92      1.50041e+37       18        0.0692129        0.0752066     48.29s\n",
      "   2     4.95      5.07859e+37       18        0.0691579        0.0757014     40.27s\n",
      "   3     2.57          6.59253        2        0.0786181        0.0913691     36.09s\n",
      "   4     2.66          2.37217        2        0.0788291        0.0894702     35.82s\n",
      "   5     2.52          5.11498        2        0.0787406         0.090266     34.54s\n",
      "   6     2.50      8.67384e+36        2        0.0789565        0.0883232     34.27s\n",
      "   7     2.70      4.25583e+16        2        0.0789092        0.0887489     33.98s\n",
      "   8     2.59      2.78013e+37        2        0.0787901        0.0898206     36.86s\n",
      "   9     2.60      4.78078e+37        2        0.0788941        0.0888847     32.26s\n",
      "  10     2.69      2.03707e+07        2        0.0787515        0.0901684     32.06s\n",
      "  11     2.54          4570.82        2        0.0788462        0.0893159     31.06s\n",
      "  12     2.62      1.08656e+08        2        0.0788615        0.0891783     30.56s\n",
      "  13     2.53       2.1445e+36        2        0.0788941        0.0888846     29.74s\n",
      "  14     2.64      3.92289e+36        7        0.0635649        0.0640464     29.52s\n",
      "  15     2.60      2.07383e+37        7        0.0632717        0.0666851     33.60s\n",
      "  16     3.67      4.50373e+37        7        0.0628377        0.0705913     28.16s\n",
      "  17     6.99          1.78057        7        0.0627909         0.071012     27.88s\n",
      "  18     7.04          6.72946        7        0.0628196        0.0707539     26.81s\n",
      "  19     6.97      3.58736e+37        7        0.0628774        0.0702341     26.06s\n",
      "  20     7.01      2.50499e+37        7        0.0630636        0.0685582     25.34s\n",
      "  21     7.14          1.02221        7        0.0628705        0.0702956     24.53s\n",
      "  22     7.20          4.15046        7        0.0629293        0.0697665     24.26s\n",
      "  23     7.11          9.64271        7        0.0628365        0.0706019     23.58s\n",
      "  24     7.11      1.62696e+37        7        0.0627783        0.0711255     22.93s\n",
      "  25     7.17          1.65259       17         0.030505         0.027966     22.40s\n",
      "  26     7.10          4121.79       17        0.0299614        0.0328585     21.77s\n",
      "  27     8.95      3.73576e+36       17        0.0298432        0.0339227     23.28s\n",
      "  28    16.05           214954       18        0.0174117        0.0178389     29.95s\n",
      "  29    16.49      3.90811e+36       18        0.0172928        0.0189092     28.60s\n",
      "  30    16.90          4.67813       18        0.0172886        0.0189471     27.00s\n",
      "  31    17.53          1.13634       18        0.0172558        0.0192418     28.00s\n",
      "  32    17.48         0.786982       18        0.0172659        0.0191513     23.55s\n",
      "  33    17.52         0.917829       18        0.0172185        0.0195782     22.88s\n",
      "  34    17.50          6.00594       18        0.0172723        0.0190932     21.78s\n",
      "  35    17.37      1.83765e+36       18        0.0172264        0.0195065     20.81s\n",
      "  36    17.64          6.01888       18        0.0172583        0.0192197     20.03s\n",
      "  37    17.67      6.52875e+35       18        0.0172283        0.0194896     19.31s\n",
      "  38    17.64           3.3604       18        0.0172462        0.0193285     19.21s\n",
      "  39    17.52      5.03592e+37       18        0.0172363        0.0194181     18.57s\n",
      "  40    17.60      2.33937e+23       18         0.017228        0.0194924     17.16s\n",
      "  41    17.46           667981       19        0.0158157        0.0148672     16.18s\n",
      "  42    17.40         0.600263       18        0.0172442        0.0193466     15.45s\n",
      "  43    17.57         0.777877       19         0.015648        0.0148331     14.47s\n",
      "  44    17.53         0.943084       18         0.017269        0.0191236     13.43s\n",
      "  45    17.61          2.63517       18        0.0172598        0.0192058     12.37s\n",
      "  46    17.29         0.782854       18        0.0172559        0.0192413     11.91s\n",
      "  47    17.67          3363.69       20        0.0159253         0.016579     12.11s\n",
      "  48    17.40      1.01674e+37       18        0.0172563        0.0192381     10.04s\n",
      "  49    17.59      1.28964e+37       18        0.0172275        0.0194965      8.87s\n",
      "  50    17.69      3.00356e+36       18        0.0172037        0.0197114      8.05s\n",
      "  51    17.54      4.94142e+37       18        0.0163624        0.0156983      7.15s\n",
      "  52    17.45      1.81346e+36       18        0.0161684        0.0174437      6.22s\n",
      "  53    17.56          464.115       18        0.0160622        0.0183999      5.34s\n",
      "  54    17.52       3.4105e+36       18        0.0160008        0.0189521      4.66s\n",
      "  55    17.56      2.33523e+37       18        0.0160328        0.0186646      3.75s\n",
      "  56    17.69      1.06773e+11       18        0.0160038        0.0189254      2.81s\n",
      "  57    17.42           1.1941       18        0.0160335        0.0186586      1.86s\n",
      "  58    16.55      2.84128e+18       18        0.0160595         0.018424      0.98s\n",
      "  59    16.71          1.59065       17        0.0163149        0.0185066      0.00s\n"
     ]
    },
    {
     "data": {
      "text/plain": [
       "SymbolicRegressor(function_set=[<gplearn.functions._Function object at 0x7f8f80717610>,\n",
       "                                'add', 'sub', 'mul', 'div', 'abs', 'inv',\n",
       "                                'neg'],\n",
       "                  generations=60, max_samples=0.9, p_crossover=0.117,\n",
       "                  p_hoist_mutation=0.079, p_point_mutation=0.035,\n",
       "                  p_subtree_mutation=0.2, parsimony_coefficient=0.002,\n",
       "                  population_size=1410, random_state=0, stopping_criteria=0.002,\n",
       "                  verbose=1)"
      ]
     },
     "execution_count": 185,
     "metadata": {},
     "output_type": "execute_result"
    }
   ],
   "source": [
    "est_gp_sep=SymbolicRegressor(population_size=1410,init_method='half and half',\n",
    "                            generations=60, stopping_criteria=0.002,\n",
    "                            max_samples=0.9, verbose=1,\n",
    "                            p_crossover=0.117, p_subtree_mutation=0.2,\n",
    "                            p_hoist_mutation=0.079, p_point_mutation=0.035,\n",
    "                            random_state=0, parsimony_coefficient=0.002,\n",
    "                            function_set=function_set_s)\n",
    "est_gp_sep.fit(X_train, y_train)\n",
    "\n"
   ]
  },
  {
   "cell_type": "code",
   "execution_count": 186,
   "id": "f0b9de09-c299-40e9-8051-c6e907bb07aa",
   "metadata": {},
   "outputs": [
    {
     "name": "stdout",
     "output_type": "stream",
     "text": [
      "add(add(sub(add(X0, X1), inv(0.997)), div(exp(-0.452), add(X0, X1))), add(X0, X0))\n"
     ]
    }
   ],
   "source": [
    "print(est_gp_sep._program)"
   ]
  },
  {
   "cell_type": "code",
   "execution_count": 187,
   "id": "a5660824-512e-40f7-907d-ed17db8f090b",
   "metadata": {
    "scrolled": true
   },
   "outputs": [],
   "source": [
    "#est_gp_new._program=mul(sub(sub(sub(mul(3,X0),mul(2.228,X1)),1.34),div(X1,X0)),div(add(X0, mul(1.228,X1)),add(X1, 0.248)))"
   ]
  },
  {
   "cell_type": "code",
   "execution_count": 188,
   "id": "be84086b-54cb-499d-8c56-8f7b6247c970",
   "metadata": {},
   "outputs": [
    {
     "data": {
      "image/svg+xml": [
       "<?xml version=\"1.0\" encoding=\"UTF-8\" standalone=\"no\"?>\n",
       "<!DOCTYPE svg PUBLIC \"-//W3C//DTD SVG 1.1//EN\"\n",
       " \"http://www.w3.org/Graphics/SVG/1.1/DTD/svg11.dtd\">\n",
       "<!-- Generated by graphviz version 2.50.0 (20211204.2007)\n",
       " -->\n",
       "<!-- Title: program Pages: 1 -->\n",
       "<svg width=\"443pt\" height=\"332pt\"\n",
       " viewBox=\"0.00 0.00 443.00 332.00\" xmlns=\"http://www.w3.org/2000/svg\" xmlns:xlink=\"http://www.w3.org/1999/xlink\">\n",
       "<g id=\"graph0\" class=\"graph\" transform=\"scale(1 1) rotate(0) translate(4 328)\">\n",
       "<title>program</title>\n",
       "<polygon fill=\"white\" stroke=\"transparent\" points=\"-4,4 -4,-328 439,-328 439,4 -4,4\"/>\n",
       "<!-- 0 -->\n",
       "<g id=\"node1\" class=\"node\">\n",
       "<title>0</title>\n",
       "<ellipse fill=\"#136ed4\" stroke=\"black\" cx=\"293\" cy=\"-306\" rx=\"27\" ry=\"18\"/>\n",
       "<text text-anchor=\"middle\" x=\"293\" y=\"-302.3\" font-family=\"Times,serif\" font-size=\"14.00\">add</text>\n",
       "</g>\n",
       "<!-- 1 -->\n",
       "<g id=\"node2\" class=\"node\">\n",
       "<title>1</title>\n",
       "<ellipse fill=\"#136ed4\" stroke=\"black\" cx=\"257\" cy=\"-234\" rx=\"27\" ry=\"18\"/>\n",
       "<text text-anchor=\"middle\" x=\"257\" y=\"-230.3\" font-family=\"Times,serif\" font-size=\"14.00\">add</text>\n",
       "</g>\n",
       "<!-- 0&#45;&gt;1 -->\n",
       "<g id=\"edge16\" class=\"edge\">\n",
       "<title>0&#45;&gt;1</title>\n",
       "<path fill=\"none\" stroke=\"black\" d=\"M284.65,-288.76C280.29,-280.28 274.85,-269.71 269.96,-260.2\"/>\n",
       "<polygon fill=\"black\" stroke=\"black\" points=\"272.99,-258.44 265.3,-251.15 266.77,-261.64 272.99,-258.44\"/>\n",
       "</g>\n",
       "<!-- 14 -->\n",
       "<g id=\"node15\" class=\"node\">\n",
       "<title>14</title>\n",
       "<ellipse fill=\"#136ed4\" stroke=\"black\" cx=\"329\" cy=\"-234\" rx=\"27\" ry=\"18\"/>\n",
       "<text text-anchor=\"middle\" x=\"329\" y=\"-230.3\" font-family=\"Times,serif\" font-size=\"14.00\">add</text>\n",
       "</g>\n",
       "<!-- 0&#45;&gt;14 -->\n",
       "<g id=\"edge15\" class=\"edge\">\n",
       "<title>0&#45;&gt;14</title>\n",
       "<path fill=\"none\" stroke=\"black\" d=\"M301.35,-288.76C305.71,-280.28 311.15,-269.71 316.04,-260.2\"/>\n",
       "<polygon fill=\"black\" stroke=\"black\" points=\"319.23,-261.64 320.7,-251.15 313.01,-258.44 319.23,-261.64\"/>\n",
       "</g>\n",
       "<!-- 2 -->\n",
       "<g id=\"node3\" class=\"node\">\n",
       "<title>2</title>\n",
       "<ellipse fill=\"#136ed4\" stroke=\"black\" cx=\"175\" cy=\"-162\" rx=\"27\" ry=\"18\"/>\n",
       "<text text-anchor=\"middle\" x=\"175\" y=\"-158.3\" font-family=\"Times,serif\" font-size=\"14.00\">sub</text>\n",
       "</g>\n",
       "<!-- 1&#45;&gt;2 -->\n",
       "<g id=\"edge12\" class=\"edge\">\n",
       "<title>1&#45;&gt;2</title>\n",
       "<path fill=\"none\" stroke=\"black\" d=\"M240.8,-219.17C228.82,-208.94 212.31,-194.85 198.82,-183.34\"/>\n",
       "<polygon fill=\"black\" stroke=\"black\" points=\"200.77,-180.39 190.89,-176.56 196.22,-185.72 200.77,-180.39\"/>\n",
       "</g>\n",
       "<!-- 8 -->\n",
       "<g id=\"node9\" class=\"node\">\n",
       "<title>8</title>\n",
       "<ellipse fill=\"#136ed4\" stroke=\"black\" cx=\"257\" cy=\"-162\" rx=\"27\" ry=\"18\"/>\n",
       "<text text-anchor=\"middle\" x=\"257\" y=\"-158.3\" font-family=\"Times,serif\" font-size=\"14.00\">div</text>\n",
       "</g>\n",
       "<!-- 1&#45;&gt;8 -->\n",
       "<g id=\"edge11\" class=\"edge\">\n",
       "<title>1&#45;&gt;8</title>\n",
       "<path fill=\"none\" stroke=\"black\" d=\"M257,-215.7C257,-207.98 257,-198.71 257,-190.11\"/>\n",
       "<polygon fill=\"black\" stroke=\"black\" points=\"260.5,-190.1 257,-180.1 253.5,-190.1 260.5,-190.1\"/>\n",
       "</g>\n",
       "<!-- 3 -->\n",
       "<g id=\"node4\" class=\"node\">\n",
       "<title>3</title>\n",
       "<ellipse fill=\"#136ed4\" stroke=\"black\" cx=\"99\" cy=\"-90\" rx=\"27\" ry=\"18\"/>\n",
       "<text text-anchor=\"middle\" x=\"99\" y=\"-86.3\" font-family=\"Times,serif\" font-size=\"14.00\">add</text>\n",
       "</g>\n",
       "<!-- 2&#45;&gt;3 -->\n",
       "<g id=\"edge5\" class=\"edge\">\n",
       "<title>2&#45;&gt;3</title>\n",
       "<path fill=\"none\" stroke=\"black\" d=\"M159.62,-146.83C148.8,-136.87 134.14,-123.37 121.95,-112.14\"/>\n",
       "<polygon fill=\"black\" stroke=\"black\" points=\"124.08,-109.34 114.36,-105.14 119.34,-114.49 124.08,-109.34\"/>\n",
       "</g>\n",
       "<!-- 6 -->\n",
       "<g id=\"node7\" class=\"node\">\n",
       "<title>6</title>\n",
       "<ellipse fill=\"#136ed4\" stroke=\"black\" cx=\"175\" cy=\"-90\" rx=\"27\" ry=\"18\"/>\n",
       "<text text-anchor=\"middle\" x=\"175\" y=\"-86.3\" font-family=\"Times,serif\" font-size=\"14.00\">inv</text>\n",
       "</g>\n",
       "<!-- 2&#45;&gt;6 -->\n",
       "<g id=\"edge4\" class=\"edge\">\n",
       "<title>2&#45;&gt;6</title>\n",
       "<path fill=\"none\" stroke=\"black\" d=\"M175,-143.7C175,-135.98 175,-126.71 175,-118.11\"/>\n",
       "<polygon fill=\"black\" stroke=\"black\" points=\"178.5,-118.1 175,-108.1 171.5,-118.1 178.5,-118.1\"/>\n",
       "</g>\n",
       "<!-- 4 -->\n",
       "<g id=\"node5\" class=\"node\">\n",
       "<title>4</title>\n",
       "<ellipse fill=\"#60a6f6\" stroke=\"black\" cx=\"27\" cy=\"-18\" rx=\"27\" ry=\"18\"/>\n",
       "<text text-anchor=\"middle\" x=\"27\" y=\"-14.3\" font-family=\"Times,serif\" font-size=\"14.00\">X0</text>\n",
       "</g>\n",
       "<!-- 3&#45;&gt;4 -->\n",
       "<g id=\"edge2\" class=\"edge\">\n",
       "<title>3&#45;&gt;4</title>\n",
       "<path fill=\"none\" stroke=\"black\" d=\"M84.43,-74.83C74.25,-64.94 60.48,-51.55 48.97,-40.36\"/>\n",
       "<polygon fill=\"black\" stroke=\"black\" points=\"51.41,-37.85 41.8,-33.38 46.53,-42.87 51.41,-37.85\"/>\n",
       "</g>\n",
       "<!-- 5 -->\n",
       "<g id=\"node6\" class=\"node\">\n",
       "<title>5</title>\n",
       "<ellipse fill=\"#60a6f6\" stroke=\"black\" cx=\"99\" cy=\"-18\" rx=\"27\" ry=\"18\"/>\n",
       "<text text-anchor=\"middle\" x=\"99\" y=\"-14.3\" font-family=\"Times,serif\" font-size=\"14.00\">X1</text>\n",
       "</g>\n",
       "<!-- 3&#45;&gt;5 -->\n",
       "<g id=\"edge1\" class=\"edge\">\n",
       "<title>3&#45;&gt;5</title>\n",
       "<path fill=\"none\" stroke=\"black\" d=\"M99,-71.7C99,-63.98 99,-54.71 99,-46.11\"/>\n",
       "<polygon fill=\"black\" stroke=\"black\" points=\"102.5,-46.1 99,-36.1 95.5,-46.1 102.5,-46.1\"/>\n",
       "</g>\n",
       "<!-- 7 -->\n",
       "<g id=\"node8\" class=\"node\">\n",
       "<title>7</title>\n",
       "<ellipse fill=\"#60a6f6\" stroke=\"black\" cx=\"175\" cy=\"-18\" rx=\"30.59\" ry=\"18\"/>\n",
       "<text text-anchor=\"middle\" x=\"175\" y=\"-14.3\" font-family=\"Times,serif\" font-size=\"14.00\">0.997</text>\n",
       "</g>\n",
       "<!-- 6&#45;&gt;7 -->\n",
       "<g id=\"edge3\" class=\"edge\">\n",
       "<title>6&#45;&gt;7</title>\n",
       "<path fill=\"none\" stroke=\"black\" d=\"M175,-71.7C175,-63.98 175,-54.71 175,-46.11\"/>\n",
       "<polygon fill=\"black\" stroke=\"black\" points=\"178.5,-46.1 175,-36.1 171.5,-46.1 178.5,-46.1\"/>\n",
       "</g>\n",
       "<!-- 9 -->\n",
       "<g id=\"node10\" class=\"node\">\n",
       "<title>9</title>\n",
       "<ellipse fill=\"#136ed4\" stroke=\"black\" cx=\"257\" cy=\"-90\" rx=\"27\" ry=\"18\"/>\n",
       "<text text-anchor=\"middle\" x=\"257\" y=\"-86.3\" font-family=\"Times,serif\" font-size=\"14.00\">exp</text>\n",
       "</g>\n",
       "<!-- 8&#45;&gt;9 -->\n",
       "<g id=\"edge10\" class=\"edge\">\n",
       "<title>8&#45;&gt;9</title>\n",
       "<path fill=\"none\" stroke=\"black\" d=\"M257,-143.7C257,-135.98 257,-126.71 257,-118.11\"/>\n",
       "<polygon fill=\"black\" stroke=\"black\" points=\"260.5,-118.1 257,-108.1 253.5,-118.1 260.5,-118.1\"/>\n",
       "</g>\n",
       "<!-- 11 -->\n",
       "<g id=\"node12\" class=\"node\">\n",
       "<title>11</title>\n",
       "<ellipse fill=\"#136ed4\" stroke=\"black\" cx=\"336\" cy=\"-90\" rx=\"27\" ry=\"18\"/>\n",
       "<text text-anchor=\"middle\" x=\"336\" y=\"-86.3\" font-family=\"Times,serif\" font-size=\"14.00\">add</text>\n",
       "</g>\n",
       "<!-- 8&#45;&gt;11 -->\n",
       "<g id=\"edge9\" class=\"edge\">\n",
       "<title>8&#45;&gt;11</title>\n",
       "<path fill=\"none\" stroke=\"black\" d=\"M272.61,-147.17C284.08,-137.01 299.85,-123.03 312.79,-111.56\"/>\n",
       "<polygon fill=\"black\" stroke=\"black\" points=\"315.26,-114.05 320.42,-104.8 310.62,-108.81 315.26,-114.05\"/>\n",
       "</g>\n",
       "<!-- 10 -->\n",
       "<g id=\"node11\" class=\"node\">\n",
       "<title>10</title>\n",
       "<ellipse fill=\"#60a6f6\" stroke=\"black\" cx=\"257\" cy=\"-18\" rx=\"33.6\" ry=\"18\"/>\n",
       "<text text-anchor=\"middle\" x=\"257\" y=\"-14.3\" font-family=\"Times,serif\" font-size=\"14.00\">&#45;0.452</text>\n",
       "</g>\n",
       "<!-- 9&#45;&gt;10 -->\n",
       "<g id=\"edge6\" class=\"edge\">\n",
       "<title>9&#45;&gt;10</title>\n",
       "<path fill=\"none\" stroke=\"black\" d=\"M257,-71.7C257,-63.98 257,-54.71 257,-46.11\"/>\n",
       "<polygon fill=\"black\" stroke=\"black\" points=\"260.5,-46.1 257,-36.1 253.5,-46.1 260.5,-46.1\"/>\n",
       "</g>\n",
       "<!-- 12 -->\n",
       "<g id=\"node13\" class=\"node\">\n",
       "<title>12</title>\n",
       "<ellipse fill=\"#60a6f6\" stroke=\"black\" cx=\"336\" cy=\"-18\" rx=\"27\" ry=\"18\"/>\n",
       "<text text-anchor=\"middle\" x=\"336\" y=\"-14.3\" font-family=\"Times,serif\" font-size=\"14.00\">X0</text>\n",
       "</g>\n",
       "<!-- 11&#45;&gt;12 -->\n",
       "<g id=\"edge8\" class=\"edge\">\n",
       "<title>11&#45;&gt;12</title>\n",
       "<path fill=\"none\" stroke=\"black\" d=\"M336,-71.7C336,-63.98 336,-54.71 336,-46.11\"/>\n",
       "<polygon fill=\"black\" stroke=\"black\" points=\"339.5,-46.1 336,-36.1 332.5,-46.1 339.5,-46.1\"/>\n",
       "</g>\n",
       "<!-- 13 -->\n",
       "<g id=\"node14\" class=\"node\">\n",
       "<title>13</title>\n",
       "<ellipse fill=\"#60a6f6\" stroke=\"black\" cx=\"408\" cy=\"-18\" rx=\"27\" ry=\"18\"/>\n",
       "<text text-anchor=\"middle\" x=\"408\" y=\"-14.3\" font-family=\"Times,serif\" font-size=\"14.00\">X1</text>\n",
       "</g>\n",
       "<!-- 11&#45;&gt;13 -->\n",
       "<g id=\"edge7\" class=\"edge\">\n",
       "<title>11&#45;&gt;13</title>\n",
       "<path fill=\"none\" stroke=\"black\" d=\"M350.57,-74.83C360.75,-64.94 374.52,-51.55 386.03,-40.36\"/>\n",
       "<polygon fill=\"black\" stroke=\"black\" points=\"388.47,-42.87 393.2,-33.38 383.59,-37.85 388.47,-42.87\"/>\n",
       "</g>\n",
       "<!-- 15 -->\n",
       "<g id=\"node16\" class=\"node\">\n",
       "<title>15</title>\n",
       "<ellipse fill=\"#60a6f6\" stroke=\"black\" cx=\"329\" cy=\"-162\" rx=\"27\" ry=\"18\"/>\n",
       "<text text-anchor=\"middle\" x=\"329\" y=\"-158.3\" font-family=\"Times,serif\" font-size=\"14.00\">X0</text>\n",
       "</g>\n",
       "<!-- 14&#45;&gt;15 -->\n",
       "<g id=\"edge14\" class=\"edge\">\n",
       "<title>14&#45;&gt;15</title>\n",
       "<path fill=\"none\" stroke=\"black\" d=\"M329,-215.7C329,-207.98 329,-198.71 329,-190.11\"/>\n",
       "<polygon fill=\"black\" stroke=\"black\" points=\"332.5,-190.1 329,-180.1 325.5,-190.1 332.5,-190.1\"/>\n",
       "</g>\n",
       "<!-- 16 -->\n",
       "<g id=\"node17\" class=\"node\">\n",
       "<title>16</title>\n",
       "<ellipse fill=\"#60a6f6\" stroke=\"black\" cx=\"401\" cy=\"-162\" rx=\"27\" ry=\"18\"/>\n",
       "<text text-anchor=\"middle\" x=\"401\" y=\"-158.3\" font-family=\"Times,serif\" font-size=\"14.00\">X0</text>\n",
       "</g>\n",
       "<!-- 14&#45;&gt;16 -->\n",
       "<g id=\"edge13\" class=\"edge\">\n",
       "<title>14&#45;&gt;16</title>\n",
       "<path fill=\"none\" stroke=\"black\" d=\"M343.57,-218.83C353.75,-208.94 367.52,-195.55 379.03,-184.36\"/>\n",
       "<polygon fill=\"black\" stroke=\"black\" points=\"381.47,-186.87 386.2,-177.38 376.59,-181.85 381.47,-186.87\"/>\n",
       "</g>\n",
       "</g>\n",
       "</svg>\n"
      ],
      "text/plain": [
       "<graphviz.sources.Source at 0x7f8fb95c9bd0>"
      ]
     },
     "execution_count": 188,
     "metadata": {},
     "output_type": "execute_result"
    }
   ],
   "source": [
    "dot_data = est_gp_sep._program.export_graphviz()\n",
    "graph = graphviz.Source(dot_data)\n",
    "#graph.render('/Users/jiayiluo/Dropbox/symbolic/simulations/image_sim_5_error1', format='png', cleanup=True)\n",
    "graph\n"
   ]
  },
  {
   "cell_type": "code",
   "execution_count": 19,
   "id": "a61ca02a-8bd5-4e72-bf20-d8fb13133fef",
   "metadata": {},
   "outputs": [],
   "source": [
    "models = {'sr': SymbolicRegressor(population_size=435,init_method='half and half',\n",
    "                            generations=60, stopping_criteria=0.001,\n",
    "                            max_samples=0.9, verbose=1,\n",
    "                            p_crossover=0.032, p_subtree_mutation=0.237,\n",
    "                            p_hoist_mutation=0.194, p_point_mutation=0.02,\n",
    "                            random_state=0, parsimony_coefficient=0.0005,\n",
    "                            function_set=function_set_s),\n",
    "         'lm': make_pipeline(StandardScaler(), RidgeCV()),\n",
    "         'rf': RandomForestRegressor()}"
   ]
  },
  {
   "cell_type": "code",
   "execution_count": 20,
   "id": "60874a0b-cbaa-46e7-bc79-667c044ce25a",
   "metadata": {},
   "outputs": [
    {
     "name": "stdout",
     "output_type": "stream",
     "text": [
      "Training model sr\n",
      "    |   Population Average    |             Best Individual              |\n",
      "---- ------------------------- ------------------------------------------ ----------\n",
      " Gen   Length          Fitness   Length          Fitness      OOB Fitness  Time Left\n",
      "   0    14.34          23.1964        3        0.0951537        0.0837758     17.50s\n",
      "   1     9.94          1.17725        4        0.0928385         0.103402     14.11s\n",
      "   2     5.12         0.785236        1        0.0921236         0.111047     11.39s\n",
      "   3     3.51         0.799572        3        0.0925476         0.107231     10.53s\n",
      "   4     2.96         0.494022        3        0.0923526         0.108986     10.05s\n",
      "   5     1.97         0.475918        1        0.0921417         0.110884      9.91s\n",
      "   6     2.05          1.00902        1        0.0924679         0.107949     12.24s\n",
      "   7     1.82         0.535534        1        0.0918029         0.113933      9.33s\n",
      "   8     2.05         0.676394        1        0.0915069         0.116598      9.43s\n",
      "   9     1.94         0.473882        1        0.0923753         0.108782      9.11s\n",
      "  10     1.87          1.93126       12        0.0675365        0.0689925      8.95s\n",
      "  11     2.22         0.987155       12        0.0665351        0.0780052      8.83s\n",
      "  12     7.17          2.29827       12        0.0662453        0.0806134      9.86s\n",
      "  13    11.12         0.499198       14        0.0584135        0.0643332     10.13s\n",
      "  14     8.94         0.641619       14        0.0581859        0.0663818      9.55s\n",
      "  15    11.58         0.728717       13        0.0554436        0.0611755     10.14s\n",
      "  16    12.97         0.815126       13        0.0552623        0.0628065      9.86s\n",
      "  17    11.71          0.94986       13        0.0544545        0.0700774      9.49s\n",
      "  18    12.20         0.523158       13        0.0547009        0.0678594      9.78s\n",
      "  19     9.73         0.511057        9        0.0537084         0.058807      8.65s\n",
      "  20     8.86         0.400421        9        0.0532081        0.0633095      8.27s\n",
      "  21     8.98         0.559881        9        0.0527014        0.0678692      8.92s\n",
      "  22     8.78         0.531767        9        0.0526364         0.068455      9.46s\n",
      "  23     8.77         0.534751        9         0.052806        0.0669285      9.34s\n",
      "  24     9.15         0.497741        9        0.0528851         0.066216      9.16s\n",
      "  25     9.16         0.631047        9        0.0526398        0.0684242      8.83s\n",
      "  26     8.75         0.666534        9        0.0518485        0.0755457      8.42s\n",
      "  27     9.13         0.420024        9        0.0529382        0.0657382      8.35s\n",
      "  28     9.23         0.672833       14        0.0461037        0.0412607      8.17s\n",
      "  29     8.94         0.603206       14        0.0450836        0.0504423      7.90s\n",
      "  30    10.78         0.839039       15        0.0442204        0.0481358      8.24s\n",
      "  31    13.14         0.480872       19        0.0430192        0.0400846      8.06s\n",
      "  32    12.90         0.675677       13        0.0435901        0.0638836      8.11s\n",
      "  33    12.51         0.401772       15        0.0439173         0.050863      7.72s\n",
      "  34    12.45         0.592317       17        0.0419906         0.049342      7.14s\n",
      "  35    12.48         0.749827       17        0.0414406        0.0542921      6.67s\n",
      "  36    13.59         0.433379       17        0.0412361         0.056133      6.52s\n",
      "  37    15.53         0.791899       15        0.0408421        0.0507513      6.52s\n",
      "  38    15.15         0.580484       15        0.0402256        0.0563001      6.15s\n",
      "  39    14.04         0.430115       15        0.0405091        0.0537486      5.96s\n",
      "  40    14.21          1.10904       15        0.0405222        0.0536307      5.81s\n",
      "  41    14.16         0.399709       15        0.0406579        0.0524089      5.24s\n",
      "  42    14.47         0.327229       15        0.0403557        0.0551286      4.99s\n",
      "  43    14.29         0.457197       15        0.0396808        0.0612032      4.53s\n",
      "  44    14.26          1.25552       15        0.0405022        0.0538107      4.29s\n",
      "  45    14.47         0.751908       15        0.0398996        0.0592337      4.00s\n",
      "  46    14.01          0.57153       15        0.0402637        0.0559566      3.99s\n",
      "  47    14.64          1.73317       15        0.0405363        0.0535038      3.60s\n",
      "  48    14.32         0.535559       15        0.0405544        0.0533404      3.23s\n",
      "  49    14.18         0.490876       15        0.0404668        0.0541291      2.92s\n",
      "  50    13.89         0.770642       15        0.0404259        0.0544973      2.54s\n",
      "  51    14.47         0.460316       15        0.0401275        0.0571827      2.40s\n",
      "  52    14.37         0.690297       15        0.0404307         0.054454      2.01s\n",
      "  53    14.54         0.347149       15         0.040371        0.0549916      1.77s\n",
      "  54    13.90          2.11523       15        0.0404344        0.0544202      1.42s\n",
      "  55    14.37         0.827437       15        0.0402403        0.0561673      1.16s\n",
      "  56    14.25         0.838222       15        0.0404119         0.054623      0.87s\n",
      "  57    14.16         0.428105       24        0.0364622        0.0335338      0.59s\n",
      "  58    14.19         0.876743       24        0.0361801        0.0360725      0.30s\n",
      "  59    15.17          0.47805       24        0.0354068        0.0430321      0.00s\n",
      "Training model lm\n",
      "Training model rf\n"
     ]
    }
   ],
   "source": [
    "for model_name, model_instance in models.items():\n",
    "    print('Training model {}'.format(model_name))\n",
    "    model_instance.fit(X_train, y_train)"
   ]
  },
  {
   "cell_type": "code",
   "execution_count": 21,
   "id": "f23ce12f-a2dd-459d-8f3c-39e6de971aaf",
   "metadata": {},
   "outputs": [
    {
     "name": "stdout",
     "output_type": "stream",
     "text": [
      "Model sr: \n",
      " mae: 0.03715134056216754 \n",
      " mse: 0.007597649850242908 \n",
      "\n",
      "Model lm: \n",
      " mae: 0.06612426328539411 \n",
      " mse: 0.014053640316234 \n",
      "\n",
      "Model rf: \n",
      " mae: 0.003026327704555201 \n",
      " mse: 0.00014851693857573703 \n",
      "\n"
     ]
    }
   ],
   "source": [
    "for model_name, model_instance in models.items():\n",
    "    y_test_pred = model_instance.predict(X_test)\n",
    "    mae = mean_absolute_error(y_test, y_test_pred)\n",
    "    mse = mean_squared_error(y_test, y_test_pred)\n",
    "    \n",
    "    print('Model {}: \\n mae: {} \\n mse: {} \\n'.format(model_name, mae, mse))"
   ]
  },
  {
   "cell_type": "code",
   "execution_count": null,
   "id": "235e70ee-c3cf-45dc-a5a3-be0b6a0986f9",
   "metadata": {},
   "outputs": [],
   "source": [
    "models = {'sr': est_gp,\n",
    "         'dt': est_tree,\n",
    "         'rf': est_rf}\n",
    "\n",
    "for model_name, model_instance in models.items():\n",
    "    y_test_pred = model_instance.predict(X_test)\n",
    "    mae = mean_absolute_error(y_test, y_test_pred)\n",
    "    mse = mean_squared_error(y_test, y_test_pred)\n",
    "    \n",
    "    print('Model {}: \\n mae: {} \\n mse: {} \\n'.format(model_name, mae, mse))"
   ]
  },
  {
   "cell_type": "code",
   "execution_count": null,
   "id": "02557caa-2efc-4727-891f-16b19a62a307",
   "metadata": {},
   "outputs": [],
   "source": [
    "print(est_gp._program)"
   ]
  },
  {
   "cell_type": "code",
   "execution_count": null,
   "id": "b20b66b4-ee81-43d0-a470-1b49e2bc877a",
   "metadata": {},
   "outputs": [],
   "source": [
    "X_train.head()"
   ]
  },
  {
   "cell_type": "code",
   "execution_count": null,
   "id": "9fa85cf1-7295-4a0b-9ba9-e9ba74c0a6ec",
   "metadata": {},
   "outputs": [],
   "source": [
    "x0 = np.arange(-1, 1, 1/10.)\n",
    "x1 = np.arange(-1, 1, 1/10.)\n",
    "x0, x1 = np.meshgrid(x0, x1)\n",
    "y_truth = x0**2 - x1**2 + x1 - 1\n",
    "\n",
    "# Training samples\n",
    "X_train = np.random.uniform(-1, 1, 100).reshape(50, 2)\n",
    "y_train = X_train[:, 0]**2 - X_train[:, 1]**2 + X_train[:, 1] - 1\n",
    "\n",
    "# Testing samples\n",
    "X_test = np.random.uniform(-1, 1, 100).reshape(50, 2)\n",
    "y_test = X_test[:, 0]**2 - X_test[:, 1]**2 + X_test[:, 1] - 1\n"
   ]
  },
  {
   "cell_type": "code",
   "execution_count": null,
   "id": "804811e1-c40f-4aab-88b2-82ccd1d05b36",
   "metadata": {},
   "outputs": [],
   "source": [
    "y_train.print()"
   ]
  },
  {
   "cell_type": "code",
   "execution_count": null,
   "id": "c31078aa-2be7-4505-b23f-042016752559",
   "metadata": {},
   "outputs": [],
   "source": []
  }
 ],
 "metadata": {
  "kernelspec": {
   "display_name": "Python 3 (ipykernel)",
   "language": "python",
   "name": "python3"
  },
  "language_info": {
   "codemirror_mode": {
    "name": "ipython",
    "version": 3
   },
   "file_extension": ".py",
   "mimetype": "text/x-python",
   "name": "python",
   "nbconvert_exporter": "python",
   "pygments_lexer": "ipython3",
   "version": "3.9.7"
  }
 },
 "nbformat": 4,
 "nbformat_minor": 5
}
